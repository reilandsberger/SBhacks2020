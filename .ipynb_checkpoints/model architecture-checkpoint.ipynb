{
 "cells": [
  {
   "cell_type": "code",
   "execution_count": 11,
   "metadata": {},
   "outputs": [],
   "source": [
    "import matplotlib.pyplot as plt\n",
    "from keras.utils import to_categorical\n",
    "from keras.models import Sequential\n",
    "from keras.layers import Dense, Conv1D, Flatten, MaxPooling1D, Activation,AveragePooling1D\n",
    "import numpy as np\n",
    "import pandas as pd\n",
    "from keras import initializers"
   ]
  },
  {
   "cell_type": "markdown",
   "metadata": {},
   "source": [
    "# architecture"
   ]
  },
  {
   "cell_type": "code",
   "execution_count": 12,
   "metadata": {
    "collapsed": true
   },
   "outputs": [],
   "source": [
    "# construct the model used for classifier\n",
    "# In our case the input shape is (42,1) is the board flattened\n",
    "\n",
    "def classifier():  \n",
    "    \n",
    "    model = Sequential()\n",
    "    # 2 \"convo+pooling\" layers\n",
    "    model.add(Conv2D(filters=5, kernel_size=(3,3), strides=1, input_shape=(42,1)))\n",
    "    model.add(MaxPooling1D(pool_size=(2,2), strides=2))\n",
    "    model.add(Activation('relu'))\n",
    "    \n",
    "    model.add(Conv2D(filters=10, kernel_size=(3,3), strides=1))\n",
    "    model.add(MaxPooling1D(pool_size=(2,2), strides=2))\n",
    "    model.add(Activation('relu'))\n",
    "\n",
    "    #flatten & linear layers\n",
    "    model.add(Flatten())\n",
    "    model.add(Dense(42))\n",
    "    model.add(Activation('relu'))\n",
    "\n",
    "    #Classify if there is a merger waveform, output probabilistic\n",
    "    model.add(Dense(2, activation=\"softmax\"))\n",
    "\n",
    "    return model"
   ]
  },
  {
   "cell_type": "markdown",
   "metadata": {},
   "source": [
    "# compile"
   ]
  },
  {
   "cell_type": "code",
   "execution_count": null,
   "metadata": {
    "collapsed": true
   },
   "outputs": [],
   "source": [
    "# Build model\n",
    "model = classifier()\n",
    "\n",
    "# compile model\n",
    "ad = optimizers.Adam(lr=0.00005)\n",
    "model.compile(loss='categorical_crossentropy', optimizer=ad, metrics=['accuracy'])\n",
    "\n",
    "# Pre_train score record\n",
    "pre_score = model.evaluate(X_test, y_test, verbose=1)"
   ]
  },
  {
   "cell_type": "markdown",
   "metadata": {},
   "source": [
    "# training data"
   ]
  },
  {
   "cell_type": "code",
   "execution_count": 13,
   "metadata": {
    "collapsed": true
   },
   "outputs": [],
   "source": [
    "# return a 6*7 array of zeros, which represent \n",
    "def newgame():\n",
    "    n = np.zeros(42)\n",
    "    n = np.reshape(n, (6,7))\n",
    "    return n"
   ]
  },
  {
   "cell_type": "code",
   "execution_count": 68,
   "metadata": {},
   "outputs": [],
   "source": [
    "# Check if col th column of B is full\n",
    "\n",
    "def colAvailable(B, col):\n",
    "    # start with checking if bottom (row 6) of ith column is empty \n",
    "    row = 5\n",
    "    while B[row, col] != 0:\n",
    "        row -= 1\n",
    "        if row < 0:\n",
    "            return False #column not available cuz full\n",
    "    return True"
   ]
  },
  {
   "cell_type": "code",
   "execution_count": 69,
   "metadata": {
    "collapsed": true
   },
   "outputs": [],
   "source": [
    "# assume col not a full column, meaning it has been run through the columnfull function\n",
    "# play a piece in ith column, [0,6] of B\n",
    "# player denoted with -1, 1\n",
    "\n",
    "# The function avoids modifying the original object numpy array B, returns a new object\n",
    "\n",
    "def move(B, col, player):\n",
    "    A = np.array(B)\n",
    "    # start with checking if bottom (row 6) of ith column is empty \n",
    "    row = 5\n",
    "    while A[row, col] != 0:\n",
    "        row -= 1\n",
    "    A[row, col] = player\n",
    "    return A"
   ]
  },
  {
   "cell_type": "code",
   "execution_count": null,
   "metadata": {
    "collapsed": true
   },
   "outputs": [],
   "source": [
    "# return all possible next board position, \n",
    "# and the associated probability of the current player winning based on the current model of network\n",
    "\n",
    "def possibilities(B, player, network):\n",
    "    pos = []\n",
    "    for col in range(6):\n",
    "        if colAvailable(B, col):\n",
    "            pos.append([move(B, col, player),--------network--------- ] )\n",
    "    return pos"
   ]
  },
  {
   "cell_type": "code",
   "execution_count": null,
   "metadata": {
    "collapsed": true
   },
   "outputs": [],
   "source": [
    "def goodMove(B, network, player):\n",
    "    "
   ]
  },
  {
   "cell_type": "code",
   "execution_count": 8,
   "metadata": {},
   "outputs": [
    {
     "ename": "SyntaxError",
     "evalue": "invalid syntax (<ipython-input-8-93bfe3577156>, line 4)",
     "output_type": "error",
     "traceback": [
      "\u001b[0;36m  File \u001b[0;32m\"<ipython-input-8-93bfe3577156>\"\u001b[0;36m, line \u001b[0;32m4\u001b[0m\n\u001b[0;31m    b = np.reshape(board, (, 2))\u001b[0m\n\u001b[0m                           ^\u001b[0m\n\u001b[0;31mSyntaxError\u001b[0m\u001b[0;31m:\u001b[0m invalid syntax\n"
     ]
    }
   ],
   "source": [
    "# board is the current position, a 2d numpy array \n",
    "# checkwin checks if any side wins\n",
    "def checkwin(board):\n",
    "    "
   ]
  },
  {
   "cell_type": "code",
   "execution_count": 73,
   "metadata": {},
   "outputs": [
    {
     "ename": "SyntaxError",
     "evalue": "invalid syntax (<ipython-input-73-4793565986b4>, line 4)",
     "output_type": "error",
     "traceback": [
      "\u001b[0;36m  File \u001b[0;32m\"<ipython-input-73-4793565986b4>\"\u001b[0;36m, line \u001b[0;32m4\u001b[0m\n\u001b[0;31m    while checkwin\u001b[0m\n\u001b[0m                  ^\u001b[0m\n\u001b[0;31mSyntaxError\u001b[0m\u001b[0;31m:\u001b[0m invalid syntax\n"
     ]
    }
   ],
   "source": [
    "# player1 goes first\n",
    "\n",
    "def game(network, player1):\n",
    "    B = newgame()\n",
    "    step = 0\n",
    "    \n",
    "    if player1 == 1:\n",
    "        player2 = -1\n",
    "    else:\n",
    "        player2 = 1\n",
    "    \n",
    "    # keep playing as long as no one winning\n",
    "    while checkwin(B) != 0:\n",
    "        step += 1\n",
    "        if (num % 2) == 0: # odd step player1 moves, otherwise player2 moves\n",
    "            B = move(B, player2, network)\n",
    "        else:\n",
    "            B = move(B, player1, network)\n",
    "        \n",
    "    \n",
    "    \n",
    "    possibilities(B, player, network)\n",
    "    B = move(B)\n",
    "    \n",
    "    \n",
    "    return (board,prob)"
   ]
  },
  {
   "cell_type": "code",
   "execution_count": null,
   "metadata": {
    "collapsed": true
   },
   "outputs": [],
   "source": [
    "                                            "
   ]
  },
  {
   "cell_type": "code",
   "execution_count": 70,
   "metadata": {},
   "outputs": [],
   "source": [
    "a = newgame()\n",
    "b = np.array(a)\n",
    "move(a, 0, -1)"
   ]
  },
  {
   "cell_type": "code",
   "execution_count": 71,
   "metadata": {},
   "outputs": [
    {
     "data": {
      "text/plain": [
       "array([[ 0.,  0.,  0.,  0.,  0.,  0.,  0.],\n",
       "       [ 0.,  0.,  0.,  0.,  0.,  0.,  0.],\n",
       "       [ 0.,  0.,  0.,  0.,  0.,  0.,  0.],\n",
       "       [ 0.,  0.,  0.,  0.,  0.,  0.,  0.],\n",
       "       [ 0.,  0.,  0.,  0.,  0.,  0.,  0.],\n",
       "       [-1.,  0.,  0.,  0.,  0.,  0.,  0.]])"
      ]
     },
     "execution_count": 71,
     "metadata": {},
     "output_type": "execute_result"
    }
   ],
   "source": [
    "a"
   ]
  },
  {
   "cell_type": "code",
   "execution_count": 72,
   "metadata": {},
   "outputs": [
    {
     "data": {
      "text/plain": [
       "array([[0., 0., 0., 0., 0., 0., 0.],\n",
       "       [0., 0., 0., 0., 0., 0., 0.],\n",
       "       [0., 0., 0., 0., 0., 0., 0.],\n",
       "       [0., 0., 0., 0., 0., 0., 0.],\n",
       "       [0., 0., 0., 0., 0., 0., 0.],\n",
       "       [0., 0., 0., 0., 0., 0., 0.]])"
      ]
     },
     "execution_count": 72,
     "metadata": {},
     "output_type": "execute_result"
    }
   ],
   "source": [
    "b"
   ]
  },
  {
   "cell_type": "code",
   "execution_count": 67,
   "metadata": {},
   "outputs": [
    {
     "name": "stdout",
     "output_type": "stream",
     "text": [
      "-1.0\n"
     ]
    },
    {
     "data": {
      "text/plain": [
       "False"
      ]
     },
     "execution_count": 67,
     "metadata": {},
     "output_type": "execute_result"
    }
   ],
   "source": [
    "colAvailable(a, 0)"
   ]
  },
  {
   "cell_type": "code",
   "execution_count": null,
   "metadata": {
    "collapsed": true
   },
   "outputs": [],
   "source": []
  }
 ],
 "metadata": {
  "kernelspec": {
   "display_name": "Python 3",
   "language": "python",
   "name": "python3"
  },
  "language_info": {
   "codemirror_mode": {
    "name": "ipython",
    "version": 3
   },
   "file_extension": ".py",
   "mimetype": "text/x-python",
   "name": "python",
   "nbconvert_exporter": "python",
   "pygments_lexer": "ipython3",
   "version": "3.6.8"
  }
 },
 "nbformat": 4,
 "nbformat_minor": 2
}
