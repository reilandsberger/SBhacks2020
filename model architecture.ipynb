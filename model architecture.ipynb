{
 "cells": [
  {
   "cell_type": "code",
   "execution_count": 3,
   "metadata": {},
   "outputs": [
    {
     "name": "stderr",
     "output_type": "stream",
     "text": [
      "Using TensorFlow backend.\n"
     ]
    }
   ],
   "source": [
    "import matplotlib.pyplot as plt\n",
    "from keras.utils import to_categorical\n",
    "from keras.models import Sequential\n",
    "from keras.layers import Dense, Conv1D, Flatten, MaxPooling1D, Activation,AveragePooling1D\n",
    "import numpy as np\n",
    "import pandas as pd\n",
    "from keras import initializers"
   ]
  },
  {
   "cell_type": "code",
   "execution_count": 4,
   "metadata": {
    "collapsed": true
   },
   "outputs": [],
   "source": [
    "# construct the model used for classifier\n",
    "# In our case the input shape is (4096,1) and is already included.\n",
    "\n",
    "def classifier():  \n",
    "    \n",
    "    model = Sequential()\n",
    "    # 2 \"convo+pooling\" layers \n",
    "    model.add(Conv2D(filters=5, kernel_size=(3,3), strides=1, input_shape=(42,1)))\n",
    "    model.add(MaxPooling1D(pool_size=(2,2), strides=4))\n",
    "    model.add(Activation('relu'))\n",
    "    \n",
    "    model.add(Conv2D(filters=10, kernel_size=(3,3), strides=1)\n",
    "    model.add(MaxPooling1D(pool_size=(2,2), strides=4))\n",
    "    model.add(Activation('relu'))\n",
    "\n",
    "    #flatten & linear layers\n",
    "    model.add(Flatten())\n",
    "    model.add(Dense(42))\n",
    "    model.add(Activation('relu'))\n",
    "\n",
    "    #Classify if there is a merger waveform, output probability\n",
    "    model.add(Dense(2, activation=\"softmax\"))\n",
    "\n",
    "    return model"
   ]
  },
  {
   "cell_type": "code",
   "execution_count": 7,
   "metadata": {},
   "outputs": [],
   "source": [
    "# return a 6*7 array of zeros, which represent \n",
    "def newgame():\n",
    "    n = np.zeros(42)\n",
    "    n = np.reshape(n, (6,7))\n",
    "    return n"
   ]
  },
  {
   "cell_type": "code",
   "execution_count": null,
   "metadata": {
    "collapsed": true
   },
   "outputs": [],
   "source": [
    "# nth column\n",
    "def move(n):\n",
    "    "
   ]
  },
  {
   "cell_type": "code",
   "execution_count": 72,
   "metadata": {},
   "outputs": [],
   "source": [
    "# board is the current position, a 2d numpy array \n",
    "# checkwin checks if any side wins\n",
    "def checkwin(board):   #returns 1 if four 1s in a row, -1 if four -1s in a row, 0 otherwise\n",
    "    isWin = 0\n",
    "\n",
    "    wincombopos = [1,1,1,1]\n",
    "    wincomboneg = [-1,-1,-1,-1]\n",
    "\n",
    "    for row in board: #look for 4 of a kind on rows\n",
    "        for i in range(4):\n",
    "            if (np.array_equal(wincombopos, row[i:i+4])):\n",
    "                isWin = 1\n",
    "            elif (np.array_equal(wincomboneg, row[i:i+4])):\n",
    "                isWin = -1\n",
    "            \n",
    "    for column in np.transpose(board): #look for 4 of a kind on columns\n",
    "        for i in range(3):\n",
    "            if (np.array_equal(wincombopos, column[i:i+4])):\n",
    "                isWin = 1\n",
    "            elif (np.array_equal(wincomboneg, column[i:i+4])):\n",
    "                isWin = -1\n",
    "    \n",
    "    for ri in range(3): #row index   #look for 4 of a kind on downward sloping diagonals\n",
    "        for ci in range(4): #column index\n",
    "            diag = np.array([board[ri][ci], board[ri+1][ci+1], board[ri+2][ci+2], board[ri+3][ci+3]])\n",
    "            if (np.array_equal(wincombopos, diag)):\n",
    "                isWin = 1\n",
    "            elif (np.array_equal(wincomboneg, diag)):\n",
    "                isWin = -1\n",
    "            \n",
    "    for ri in range(3):\n",
    "        for ci in range(4):\n",
    "            diag = np.array([board[ri+3][ci], board[ri+2][ci+1], board[ri+1][ci+2], board[ri][ci+3]])\n",
    "            if (np.array_equal(wincombopos, diag)):\n",
    "                isWin = 1\n",
    "            if (np.array_equal(wincomboneg, diag)):\n",
    "                isWin = -1\n",
    "\n",
    "    return isWin\n",
    "    "
   ]
  },
  {
   "cell_type": "code",
   "execution_count": null,
   "metadata": {
    "collapsed": true
   },
   "outputs": [],
   "source": [
    "def game(network):\n",
    "    return (board,prob)"
   ]
  },
  {
   "cell_type": "code",
   "execution_count": null,
   "metadata": {},
   "outputs": [],
   "source": []
  },
  {
   "cell_type": "code",
   "execution_count": 9,
   "metadata": {},
   "outputs": [
    {
     "data": {
      "text/plain": [
       "array([[0., 0., 0., 0., 0., 0., 0.],\n",
       "       [0., 0., 0., 0., 0., 0., 0.],\n",
       "       [0., 0., 0., 0., 0., 0., 0.],\n",
       "       [0., 0., 0., 0., 0., 0., 0.],\n",
       "       [0., 0., 0., 0., 0., 0., 0.],\n",
       "       [0., 0., 0., 0., 0., 0., 0.]])"
      ]
     },
     "execution_count": 9,
     "metadata": {},
     "output_type": "execute_result"
    }
   ],
   "source": [
    "newgame()"
   ]
  },
  {
   "cell_type": "code",
   "execution_count": null,
   "metadata": {
    "collapsed": true
   },
   "outputs": [],
   "source": []
  }
 ],
 "metadata": {
  "kernelspec": {
   "display_name": "Python 3",
   "language": "python",
   "name": "python3"
  },
  "language_info": {
   "codemirror_mode": {
    "name": "ipython",
    "version": 3
   },
   "file_extension": ".py",
   "mimetype": "text/x-python",
   "name": "python",
   "nbconvert_exporter": "python",
   "pygments_lexer": "ipython3",
   "version": "3.7.4"
  }
 },
 "nbformat": 4,
 "nbformat_minor": 2
}
