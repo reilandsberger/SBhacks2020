{
 "cells": [
  {
   "cell_type": "code",
   "execution_count": 1,
   "metadata": {},
   "outputs": [
    {
     "name": "stderr",
     "output_type": "stream",
     "text": [
      "Using TensorFlow backend.\n"
     ]
    }
   ],
   "source": [
    "import matplotlib.pyplot as plt\n",
    "from keras.utils import to_categorical\n",
    "from keras.models import Sequential\n",
    "from keras.layers import Dense, Conv2D, Flatten, MaxPooling2D, Activation\n",
    "import numpy as np\n",
    "import pandas as pd\n",
    "from keras import initializers\n",
    "\n",
    "import matplotlib.pyplot as plt\n",
    "from keras.utils import to_categorical\n",
    "from keras.models import Sequential\n",
    "from keras.layers import Dense, Conv1D, Flatten, MaxPooling1D\n",
    "import numpy as np\n",
    "import pandas as pd\n",
    "from sklearn.model_selection import train_test_split\n",
    "from keras.utils import to_categorical\n",
    "from keras.models import load_model\n",
    "from keras import optimizers\n",
    "from keras.callbacks import EarlyStopping\n",
    "from tqdm import tqdm"
   ]
  },
  {
   "cell_type": "markdown",
   "metadata": {},
   "source": [
    "# architecture"
   ]
  },
  {
   "cell_type": "code",
   "execution_count": 2,
   "metadata": {
    "collapsed": true
   },
   "outputs": [],
   "source": [
    "# construct the model used for classifier\n",
    "# In our case the input shape is (42,1) is the board flattened\n",
    "\n",
    "def classifier():  \n",
    "    \n",
    "    model = Sequential()\n",
    "    # 2 \"convo+pooling\" layers\n",
    "    model.add(Conv2D(filters=5, kernel_size=(3,3), strides=1, input_shape=(6,7,1)))\n",
    "    #model.add(MaxPooling2D(pool_size=(2, 2),strides=2))\n",
    "    model.add(Activation('relu'))\n",
    "    \n",
    "    model.add(Conv2D(filters=10, kernel_size=(3,3), strides=1))\n",
    "    model.add(MaxPooling2D(pool_size=(2, 2),strides=2))\n",
    "    model.add(Activation('relu'))\n",
    "\n",
    "    #flatten & linear layers\n",
    "    model.add(Flatten())\n",
    "    #model.add(Dense(42))\n",
    "    model.add(Activation('relu'))\n",
    "\n",
    "    #Classify if there is a merger waveform, output probabilistic\n",
    "    model.add(Dense(2, activation=\"softmax\"))\n",
    "\n",
    "    return model"
   ]
  },
  {
   "cell_type": "markdown",
   "metadata": {},
   "source": [
    "# compile"
   ]
  },
  {
   "cell_type": "code",
   "execution_count": 3,
   "metadata": {},
   "outputs": [
    {
     "name": "stdout",
     "output_type": "stream",
     "text": [
      "WARNING:tensorflow:From /Users/DRRRR/anaconda/envs/machinelearning/lib/python3.6/site-packages/tensorflow/python/framework/op_def_library.py:263: colocate_with (from tensorflow.python.framework.ops) is deprecated and will be removed in a future version.\n",
      "Instructions for updating:\n",
      "Colocations handled automatically by placer.\n"
     ]
    }
   ],
   "source": [
    "# Build model\n",
    "model = classifier()\n",
    "\n",
    "# compile model\n",
    "ad = optimizers.Adam(lr=0.00005)\n",
    "model.compile(loss='categorical_crossentropy', optimizer=ad, metrics=['accuracy'])"
   ]
  },
  {
   "cell_type": "markdown",
   "metadata": {},
   "source": [
    "# training data"
   ]
  },
  {
   "cell_type": "code",
   "execution_count": 4,
   "metadata": {
    "collapsed": true
   },
   "outputs": [],
   "source": [
    "# return a 6*7 array of zeros, which represent \n",
    "def newgame():\n",
    "    n = np.zeros(42)\n",
    "    n = np.reshape(n, (6,7))\n",
    "    return n"
   ]
  },
  {
   "cell_type": "code",
   "execution_count": 5,
   "metadata": {
    "collapsed": true
   },
   "outputs": [],
   "source": [
    "# Check if col th column of B is full\n",
    "\n",
    "def colAvailable(B, col):\n",
    "    # start with checking if bottom (row 6) of ith column is empty \n",
    "    row = 5\n",
    "    while B[row, col] != 0:\n",
    "        row -= 1\n",
    "        if row < 0:\n",
    "            return False #column not available cuz full\n",
    "    return True"
   ]
  },
  {
   "cell_type": "code",
   "execution_count": 6,
   "metadata": {
    "collapsed": true
   },
   "outputs": [],
   "source": [
    "# assume col not a full column, meaning it has been run through the columnfull function\n",
    "# play a piece in ith column, [0,6] of B\n",
    "# player denoted with -1, 1\n",
    "\n",
    "# The function avoids modifying the original object numpy array B, returns a new object\n",
    "\n",
    "def move(B, col, player):\n",
    "    A = np.array(B)\n",
    "    # start with checking if bottom (row 6) of ith column is empty \n",
    "    row = 5\n",
    "    while A[row, col] != 0:\n",
    "        row -= 1\n",
    "    A[row, col] = player\n",
    "    return A"
   ]
  },
  {
   "cell_type": "code",
   "execution_count": 7,
   "metadata": {
    "collapsed": true
   },
   "outputs": [],
   "source": [
    "# return all possible next board position, \n",
    "# and the associated probability of the current player winning based on the current model of network\n",
    "\n",
    "def possibilities(B, player, network):\n",
    "    pos = []\n",
    "    for col in range(7):\n",
    "        if colAvailable(B, col):\n",
    "            moved0 = move(B, col, player)\n",
    "            moved = moved0.reshape(6,7,1)\n",
    "            moved = np.asarray([moved])\n",
    "            pos.append([moved0, model.predict(moved)] )\n",
    "    return pos"
   ]
  },
  {
   "cell_type": "code",
   "execution_count": 8,
   "metadata": {
    "collapsed": true
   },
   "outputs": [],
   "source": [
    "a = newgame()"
   ]
  },
  {
   "cell_type": "code",
   "execution_count": 9,
   "metadata": {
    "collapsed": true
   },
   "outputs": [],
   "source": [
    "a = move(a, 1, -1)"
   ]
  },
  {
   "cell_type": "code",
   "execution_count": 10,
   "metadata": {},
   "outputs": [
    {
     "name": "stdout",
     "output_type": "stream",
     "text": [
      "[array([[ 0.,  0.,  0.,  0.,  0.,  0.,  0.],\n",
      "       [ 0.,  0.,  0.,  0.,  0.,  0.,  0.],\n",
      "       [ 0.,  0.,  0.,  0.,  0.,  0.,  0.],\n",
      "       [ 0.,  0.,  0.,  0.,  0.,  0.,  0.],\n",
      "       [ 0.,  0.,  0.,  0.,  0.,  0.,  0.],\n",
      "       [ 1., -1.,  0.,  0.,  0.,  0.,  0.]]), array([[0.47582108, 0.524179  ]], dtype=float32)]\n"
     ]
    }
   ],
   "source": [
    "b = possibilities(a,1,model)\n",
    "print(b[0])"
   ]
  },
  {
   "cell_type": "code",
   "execution_count": 11,
   "metadata": {},
   "outputs": [
    {
     "data": {
      "text/plain": [
       "array([[ 0.,  0.,  0.,  0.,  0.,  0.,  0.],\n",
       "       [ 0.,  0.,  0.,  0.,  0.,  0.,  0.],\n",
       "       [ 0.,  0.,  0.,  0.,  0.,  0.,  0.],\n",
       "       [ 0.,  0.,  0.,  0.,  0.,  0.,  0.],\n",
       "       [ 0.,  0.,  0.,  0.,  0.,  0.,  0.],\n",
       "       [ 1., -1.,  0.,  0.,  0.,  0.,  0.]])"
      ]
     },
     "execution_count": 11,
     "metadata": {},
     "output_type": "execute_result"
    }
   ],
   "source": [
    "b[0][0]"
   ]
  },
  {
   "cell_type": "code",
   "execution_count": 12,
   "metadata": {},
   "outputs": [
    {
     "data": {
      "text/plain": [
       "array([[ 0.,  0.,  0.,  0.,  0.,  0.,  0.],\n",
       "       [ 0.,  0.,  0.,  0.,  0.,  0.,  0.],\n",
       "       [ 0.,  0.,  0.,  0.,  0.,  0.,  0.],\n",
       "       [ 0.,  0.,  0.,  0.,  0.,  0.,  0.],\n",
       "       [ 0.,  0.,  0.,  0.,  0.,  0.,  0.],\n",
       "       [ 0., -1.,  0.,  0.,  0.,  0.,  0.]])"
      ]
     },
     "execution_count": 12,
     "metadata": {},
     "output_type": "execute_result"
    }
   ],
   "source": [
    "a"
   ]
  },
  {
   "cell_type": "code",
   "execution_count": 47,
   "metadata": {},
   "outputs": [],
   "source": [
    "#Written by Ryan\n",
    "\n",
    "def goodMove(B, network, player):\n",
    "    poss = possibilities(B, network, player)\n",
    "    \n",
    "    if(player == 1):\n",
    "        myIndex = 0\n",
    "    else:\n",
    "        myIndex=1\n",
    "    \n",
    "    total = 0\n",
    "    u = np.random.uniform(0,1)\n",
    "    \n",
    "    for p in poss:\n",
    "        total += p[1][0][myIndex]**3\n",
    "        \n",
    "    for i in range(len(poss)):\n",
    "        sumCubeBefore=0\n",
    "        for j in range(i):\n",
    "    \n",
    "            sumCubeBefore += poss[j][1][0][myIndex]**3\n",
    "            \n",
    "            \n",
    "        #print(\"SumCubeBefore: \" + str(sumCubeBefore))\n",
    "        #print(\"u: \" + str(u))\n",
    "        #print(\"myIndex: \" + str(myIndex))\n",
    "        #print(\"poss[i][1]\" + str(poss[i][1]))\n",
    "        #print(\"sumCubeBefore + poss[i][1][myIndex]**3/total: \" + str((sumCubeBefore + poss[i][1][0][myIndex]**3))\n",
    "        #print(\"poss[i][1][myIndex]**3: \" + str(poss[i][1][myIndex]**3))\n",
    "        #print(\"poss[i][1]**3: \" + str(poss[i][1][myIndex]**3) )\n",
    "        #print(u>=sumCubeBefore and u<=sumCubeBefore + poss[i][1][0][myIndex]**3) \n",
    "            \n",
    "            \n",
    "        if u>=sumCubeBefore/total and u<=(sumCubeBefore + poss[i][1][0][myIndex]**3)/total:\n",
    "            A=poss[i][0]\n",
    "    print(str(A))\n",
    "    \n",
    "    return A\n",
    "    "
   ]
  },
  {
   "cell_type": "code",
   "execution_count": 14,
   "metadata": {},
   "outputs": [],
   "source": [
    "# board is the current position, a 2d numpy array \n",
    "# checkwin checks if any side wins\n",
    "def checkwin(board):   #returns 1 if four 1s in a row, -1 if four -1s in a row, 0 otherwise\n",
    "    #board = board[0]\n",
    "    #print(\"This is board after\" + str(board))\n",
    "    \n",
    "    isWin = 0\n",
    "\n",
    "    wincombopos = [1,1,1,1]\n",
    "    wincomboneg = [-1,-1,-1,-1]\n",
    "\n",
    "    for row in board: #look for 4 of a kind on rows\n",
    "        for i in range(4):\n",
    "            if (np.array_equal(wincombopos, row[i:i+4])):\n",
    "                isWin = 1\n",
    "            elif (np.array_equal(wincomboneg, row[i:i+4])):\n",
    "                isWin = -1\n",
    "            \n",
    "    for column in np.transpose(board): #look for 4 of a kind on columns\n",
    "        for i in range(3):\n",
    "            if (np.array_equal(wincombopos, column[i:i+4])):\n",
    "                isWin = 1\n",
    "            elif (np.array_equal(wincomboneg, column[i:i+4])):\n",
    "                isWin = -1\n",
    "    \n",
    "    for ri in range(3): #row index   #look for 4 of a kind on downward sloping diagonals\n",
    "        for ci in range(4): #column index\n",
    "            diag = np.array([board[ri][ci], board[ri+1][ci+1], board[ri+2][ci+2], board[ri+3][ci+3]])\n",
    "            if (np.array_equal(wincombopos, diag)):\n",
    "                isWin = 1\n",
    "            elif (np.array_equal(wincomboneg, diag)):\n",
    "                isWin = -1\n",
    "            \n",
    "    for ri in range(3):\n",
    "        for ci in range(4):\n",
    "            diag = np.array([board[ri+3][ci], board[ri+2][ci+1], board[ri+1][ci+2], board[ri][ci+3]])\n",
    "            if (np.array_equal(wincombopos, diag)):\n",
    "                isWin = 1\n",
    "            if (np.array_equal(wincomboneg, diag)):\n",
    "                isWin = -1\n",
    "\n",
    "    return isWin\n",
    "    "
   ]
  },
  {
   "cell_type": "code",
   "execution_count": 48,
   "metadata": {
    "collapsed": true
   },
   "outputs": [],
   "source": [
    "# player1 goes first\n",
    "\n",
    "def game(network, player1):\n",
    "    B = newgame()\n",
    "    step = 0\n",
    "    boards = []\n",
    "    probs = []\n",
    "    \n",
    "    if player1 == 1:\n",
    "        player2 = -1\n",
    "    else:\n",
    "        player2 = 1\n",
    "    \n",
    "    # keep playing as long as no one winning\n",
    "    while checkwin(B) == 0:\n",
    "        step += 1\n",
    "        print()\n",
    "        print(\"Step \", step)\n",
    "        if (step % 2) == 0: # odd step player1 moves, otherwise player2 moves\n",
    "            B = goodMove(B, player2, network)\n",
    "        else:\n",
    "            B = goodMove(B, player1, network)\n",
    "        boards.append(B)\n",
    "    \n",
    "    # try linear function first\n",
    "    prob = np.arange(0.5, 1, 0.5/step) + 0.5/step\n",
    "    \n",
    "    X = boards\n",
    "    Y = np.concatenate((prob,1-prob)).reshape(step,2)\n",
    "        \n",
    "    return X, Y\n"
   ]
  },
  {
   "cell_type": "code",
   "execution_count": 35,
   "metadata": {
    "collapsed": true
   },
   "outputs": [],
   "source": [
    "# number of training data to generate \n",
    "\n",
    "def generateData(N, network, player1):\n",
    "    X = np.array([])\n",
    "    Y = np.array([])\n",
    "    for i in range(count):\n",
    "        g = game(network,player1)\n",
    "        X = np.concatenate((X,g[0]))\n",
    "        Y = np.concatenate((Y,g[1]))\n",
    "        Y = np.transpose(Y)\n",
    "        \n",
    "    return X, Y\n",
    "\n"
   ]
  },
  {
   "cell_type": "code",
   "execution_count": 49,
   "metadata": {},
   "outputs": [
    {
     "name": "stdout",
     "output_type": "stream",
     "text": [
      "\n",
      "Step  1\n",
      "[[0. 0. 0. 0. 0. 0. 0.]\n",
      " [0. 0. 0. 0. 0. 0. 0.]\n",
      " [0. 0. 0. 0. 0. 0. 0.]\n",
      " [0. 0. 0. 0. 0. 0. 0.]\n",
      " [0. 0. 0. 0. 0. 0. 0.]\n",
      " [0. 0. 1. 0. 0. 0. 0.]]\n",
      "\n",
      "Step  2\n",
      "[[ 0.  0.  0.  0.  0.  0.  0.]\n",
      " [ 0.  0.  0.  0.  0.  0.  0.]\n",
      " [ 0.  0.  0.  0.  0.  0.  0.]\n",
      " [ 0.  0.  0.  0.  0.  0.  0.]\n",
      " [ 0.  0.  0.  0.  0.  0.  0.]\n",
      " [ 0.  0.  1.  0.  0.  0. -1.]]\n",
      "\n",
      "Step  3\n",
      "[[ 0.  0.  0.  0.  0.  0.  0.]\n",
      " [ 0.  0.  0.  0.  0.  0.  0.]\n",
      " [ 0.  0.  0.  0.  0.  0.  0.]\n",
      " [ 0.  0.  0.  0.  0.  0.  0.]\n",
      " [ 0.  0.  0.  0.  0.  0.  0.]\n",
      " [ 0.  0.  1.  1.  0.  0. -1.]]\n",
      "\n",
      "Step  4\n",
      "[[ 0.  0.  0.  0.  0.  0.  0.]\n",
      " [ 0.  0.  0.  0.  0.  0.  0.]\n",
      " [ 0.  0.  0.  0.  0.  0.  0.]\n",
      " [ 0.  0.  0.  0.  0.  0.  0.]\n",
      " [ 0.  0. -1.  0.  0.  0.  0.]\n",
      " [ 0.  0.  1.  1.  0.  0. -1.]]\n",
      "\n",
      "Step  5\n",
      "[[ 0.  0.  0.  0.  0.  0.  0.]\n",
      " [ 0.  0.  0.  0.  0.  0.  0.]\n",
      " [ 0.  0.  0.  0.  0.  0.  0.]\n",
      " [ 0.  0.  1.  0.  0.  0.  0.]\n",
      " [ 0.  0. -1.  0.  0.  0.  0.]\n",
      " [ 0.  0.  1.  1.  0.  0. -1.]]\n",
      "\n",
      "Step  6\n",
      "[[ 0.  0.  0.  0.  0.  0.  0.]\n",
      " [ 0.  0.  0.  0.  0.  0.  0.]\n",
      " [ 0.  0.  0.  0.  0.  0.  0.]\n",
      " [ 0.  0.  1.  0.  0.  0.  0.]\n",
      " [ 0.  0. -1. -1.  0.  0.  0.]\n",
      " [ 0.  0.  1.  1.  0.  0. -1.]]\n",
      "\n",
      "Step  7\n",
      "[[ 0.  0.  0.  0.  0.  0.  0.]\n",
      " [ 0.  0.  0.  0.  0.  0.  0.]\n",
      " [ 0.  0.  0.  0.  0.  0.  0.]\n",
      " [ 0.  0.  1.  1.  0.  0.  0.]\n",
      " [ 0.  0. -1. -1.  0.  0.  0.]\n",
      " [ 0.  0.  1.  1.  0.  0. -1.]]\n",
      "\n",
      "Step  8\n",
      "[[ 0.  0.  0.  0.  0.  0.  0.]\n",
      " [ 0.  0.  0.  0.  0.  0.  0.]\n",
      " [ 0.  0.  0. -1.  0.  0.  0.]\n",
      " [ 0.  0.  1.  1.  0.  0.  0.]\n",
      " [ 0.  0. -1. -1.  0.  0.  0.]\n",
      " [ 0.  0.  1.  1.  0.  0. -1.]]\n",
      "\n",
      "Step  9\n",
      "[[ 0.  0.  0.  0.  0.  0.  0.]\n",
      " [ 0.  0.  0.  1.  0.  0.  0.]\n",
      " [ 0.  0.  0. -1.  0.  0.  0.]\n",
      " [ 0.  0.  1.  1.  0.  0.  0.]\n",
      " [ 0.  0. -1. -1.  0.  0.  0.]\n",
      " [ 0.  0.  1.  1.  0.  0. -1.]]\n",
      "\n",
      "Step  10\n",
      "[[ 0.  0.  0.  0.  0.  0.  0.]\n",
      " [ 0.  0.  0.  1.  0.  0.  0.]\n",
      " [ 0.  0.  0. -1.  0.  0.  0.]\n",
      " [ 0.  0.  1.  1.  0.  0.  0.]\n",
      " [ 0.  0. -1. -1.  0.  0.  0.]\n",
      " [ 0.  0.  1.  1. -1.  0. -1.]]\n",
      "\n",
      "Step  11\n",
      "[[ 0.  0.  0.  0.  0.  0.  0.]\n",
      " [ 0.  0.  0.  1.  0.  0.  0.]\n",
      " [ 0.  0.  0. -1.  0.  0.  0.]\n",
      " [ 0.  0.  1.  1.  0.  0.  0.]\n",
      " [ 0.  0. -1. -1.  0.  0.  0.]\n",
      " [ 0.  1.  1.  1. -1.  0. -1.]]\n",
      "\n",
      "Step  12\n",
      "[[ 0.  0.  0. -1.  0.  0.  0.]\n",
      " [ 0.  0.  0.  1.  0.  0.  0.]\n",
      " [ 0.  0.  0. -1.  0.  0.  0.]\n",
      " [ 0.  0.  1.  1.  0.  0.  0.]\n",
      " [ 0.  0. -1. -1.  0.  0.  0.]\n",
      " [ 0.  1.  1.  1. -1.  0. -1.]]\n",
      "\n",
      "Step  13\n",
      "[[ 0.  0.  0. -1.  0.  0.  0.]\n",
      " [ 0.  0.  0.  1.  0.  0.  0.]\n",
      " [ 0.  0.  1. -1.  0.  0.  0.]\n",
      " [ 0.  0.  1.  1.  0.  0.  0.]\n",
      " [ 0.  0. -1. -1.  0.  0.  0.]\n",
      " [ 0.  1.  1.  1. -1.  0. -1.]]\n",
      "\n",
      "Step  14\n",
      "[[ 0.  0.  0. -1.  0.  0.  0.]\n",
      " [ 0.  0.  0.  1.  0.  0.  0.]\n",
      " [ 0.  0.  1. -1.  0.  0.  0.]\n",
      " [ 0.  0.  1.  1.  0.  0.  0.]\n",
      " [ 0.  0. -1. -1.  0.  0.  0.]\n",
      " [-1.  1.  1.  1. -1.  0. -1.]]\n",
      "\n",
      "Step  15\n",
      "[[ 0.  0.  0. -1.  0.  0.  0.]\n",
      " [ 0.  0.  1.  1.  0.  0.  0.]\n",
      " [ 0.  0.  1. -1.  0.  0.  0.]\n",
      " [ 0.  0.  1.  1.  0.  0.  0.]\n",
      " [ 0.  0. -1. -1.  0.  0.  0.]\n",
      " [-1.  1.  1.  1. -1.  0. -1.]]\n",
      "\n",
      "Step  16\n",
      "[[ 0.  0. -1. -1.  0.  0.  0.]\n",
      " [ 0.  0.  1.  1.  0.  0.  0.]\n",
      " [ 0.  0.  1. -1.  0.  0.  0.]\n",
      " [ 0.  0.  1.  1.  0.  0.  0.]\n",
      " [ 0.  0. -1. -1.  0.  0.  0.]\n",
      " [-1.  1.  1.  1. -1.  0. -1.]]\n",
      "\n",
      "Step  17\n",
      "[[ 0.  0. -1. -1.  0.  0.  0.]\n",
      " [ 0.  0.  1.  1.  0.  0.  0.]\n",
      " [ 0.  0.  1. -1.  0.  0.  0.]\n",
      " [ 0.  0.  1.  1.  0.  0.  0.]\n",
      " [ 1.  0. -1. -1.  0.  0.  0.]\n",
      " [-1.  1.  1.  1. -1.  0. -1.]]\n",
      "\n",
      "Step  18\n",
      "[[ 0.  0. -1. -1.  0.  0.  0.]\n",
      " [ 0.  0.  1.  1.  0.  0.  0.]\n",
      " [ 0.  0.  1. -1.  0.  0.  0.]\n",
      " [-1.  0.  1.  1.  0.  0.  0.]\n",
      " [ 1.  0. -1. -1.  0.  0.  0.]\n",
      " [-1.  1.  1.  1. -1.  0. -1.]]\n",
      "\n",
      "Step  19\n",
      "[[ 0.  0. -1. -1.  0.  0.  0.]\n",
      " [ 0.  0.  1.  1.  0.  0.  0.]\n",
      " [ 0.  0.  1. -1.  0.  0.  0.]\n",
      " [-1.  0.  1.  1.  0.  0.  0.]\n",
      " [ 1.  0. -1. -1.  0.  0.  0.]\n",
      " [-1.  1.  1.  1. -1.  1. -1.]]\n",
      "\n",
      "Step  20\n",
      "[[ 0.  0. -1. -1.  0.  0.  0.]\n",
      " [ 0.  0.  1.  1.  0.  0.  0.]\n",
      " [ 0.  0.  1. -1.  0.  0.  0.]\n",
      " [-1.  0.  1.  1.  0.  0.  0.]\n",
      " [ 1.  0. -1. -1. -1.  0.  0.]\n",
      " [-1.  1.  1.  1. -1.  1. -1.]]\n",
      "\n",
      "Step  21\n",
      "[[ 0.  0. -1. -1.  0.  0.  0.]\n",
      " [ 0.  0.  1.  1.  0.  0.  0.]\n",
      " [ 0.  0.  1. -1.  0.  0.  0.]\n",
      " [-1.  0.  1.  1.  0.  0.  0.]\n",
      " [ 1.  0. -1. -1. -1.  0.  1.]\n",
      " [-1.  1.  1.  1. -1.  1. -1.]]\n",
      "\n",
      "Step  22\n",
      "[[ 0.  0. -1. -1.  0.  0.  0.]\n",
      " [ 0.  0.  1.  1.  0.  0.  0.]\n",
      " [ 0.  0.  1. -1.  0.  0.  0.]\n",
      " [-1.  0.  1.  1. -1.  0.  0.]\n",
      " [ 1.  0. -1. -1. -1.  0.  1.]\n",
      " [-1.  1.  1.  1. -1.  1. -1.]]\n",
      "\n",
      "Step  23\n",
      "[[ 0.  0. -1. -1.  0.  0.  0.]\n",
      " [ 0.  0.  1.  1.  0.  0.  0.]\n",
      " [ 0.  0.  1. -1.  0.  0.  0.]\n",
      " [-1.  0.  1.  1. -1.  0.  1.]\n",
      " [ 1.  0. -1. -1. -1.  0.  1.]\n",
      " [-1.  1.  1.  1. -1.  1. -1.]]\n",
      "\n",
      "Step  24\n",
      "[[ 0.  0. -1. -1.  0.  0.  0.]\n",
      " [ 0.  0.  1.  1.  0.  0.  0.]\n",
      " [-1.  0.  1. -1.  0.  0.  0.]\n",
      " [-1.  0.  1.  1. -1.  0.  1.]\n",
      " [ 1.  0. -1. -1. -1.  0.  1.]\n",
      " [-1.  1.  1.  1. -1.  1. -1.]]\n",
      "\n",
      "Step  25\n",
      "[[ 0.  0. -1. -1.  0.  0.  0.]\n",
      " [ 1.  0.  1.  1.  0.  0.  0.]\n",
      " [-1.  0.  1. -1.  0.  0.  0.]\n",
      " [-1.  0.  1.  1. -1.  0.  1.]\n",
      " [ 1.  0. -1. -1. -1.  0.  1.]\n",
      " [-1.  1.  1.  1. -1.  1. -1.]]\n",
      "\n",
      "Step  26\n",
      "[[ 0.  0. -1. -1.  0.  0.  0.]\n",
      " [ 1.  0.  1.  1.  0.  0.  0.]\n",
      " [-1.  0.  1. -1.  0.  0. -1.]\n",
      " [-1.  0.  1.  1. -1.  0.  1.]\n",
      " [ 1.  0. -1. -1. -1.  0.  1.]\n",
      " [-1.  1.  1.  1. -1.  1. -1.]]\n",
      "\n",
      "Step  27\n",
      "[[ 0.  0. -1. -1.  0.  0.  0.]\n",
      " [ 1.  0.  1.  1.  0.  0.  0.]\n",
      " [-1.  0.  1. -1.  0.  0. -1.]\n",
      " [-1.  0.  1.  1. -1.  0.  1.]\n",
      " [ 1.  0. -1. -1. -1.  1.  1.]\n",
      " [-1.  1.  1.  1. -1.  1. -1.]]\n",
      "\n",
      "Step  28\n",
      "[[ 0.  0. -1. -1.  0.  0.  0.]\n",
      " [ 1.  0.  1.  1.  0.  0. -1.]\n",
      " [-1.  0.  1. -1.  0.  0. -1.]\n",
      " [-1.  0.  1.  1. -1.  0.  1.]\n",
      " [ 1.  0. -1. -1. -1.  1.  1.]\n",
      " [-1.  1.  1.  1. -1.  1. -1.]]\n",
      "\n",
      "Step  29\n",
      "[[ 1.  0. -1. -1.  0.  0.  0.]\n",
      " [ 1.  0.  1.  1.  0.  0. -1.]\n",
      " [-1.  0.  1. -1.  0.  0. -1.]\n",
      " [-1.  0.  1.  1. -1.  0.  1.]\n",
      " [ 1.  0. -1. -1. -1.  1.  1.]\n",
      " [-1.  1.  1.  1. -1.  1. -1.]]\n",
      "\n",
      "Step  30\n",
      "[[ 1.  0. -1. -1.  0.  0.  0.]\n",
      " [ 1.  0.  1.  1.  0.  0. -1.]\n",
      " [-1.  0.  1. -1.  0.  0. -1.]\n",
      " [-1.  0.  1.  1. -1.  0.  1.]\n",
      " [ 1. -1. -1. -1. -1.  1.  1.]\n",
      " [-1.  1.  1.  1. -1.  1. -1.]]\n"
     ]
    }
   ],
   "source": [
    "X,Y = game(model, 1)"
   ]
  },
  {
   "cell_type": "code",
   "execution_count": 43,
   "metadata": {},
   "outputs": [
    {
     "data": {
      "text/plain": [
       "23"
      ]
     },
     "execution_count": 43,
     "metadata": {},
     "output_type": "execute_result"
    }
   ],
   "source": [
    "len(X)"
   ]
  },
  {
   "cell_type": "code",
   "execution_count": 44,
   "metadata": {},
   "outputs": [
    {
     "data": {
      "text/plain": [
       "23"
      ]
     },
     "execution_count": 44,
     "metadata": {},
     "output_type": "execute_result"
    }
   ],
   "source": [
    "len(Y)"
   ]
  },
  {
   "cell_type": "code",
   "execution_count": null,
   "metadata": {
    "collapsed": true
   },
   "outputs": [],
   "source": []
  }
 ],
 "metadata": {
  "kernelspec": {
   "display_name": "Python 3",
   "language": "python",
   "name": "python3"
  },
  "language_info": {
   "codemirror_mode": {
    "name": "ipython",
    "version": 3
   },
   "file_extension": ".py",
   "mimetype": "text/x-python",
   "name": "python",
   "nbconvert_exporter": "python",
   "pygments_lexer": "ipython3",
   "version": "3.6.8"
  }
 },
 "nbformat": 4,
 "nbformat_minor": 2
}
