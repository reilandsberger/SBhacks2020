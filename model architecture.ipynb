{
 "cells": [
  {
   "cell_type": "code",
   "execution_count": 1,
   "metadata": {},
   "outputs": [
    {
     "name": "stderr",
     "output_type": "stream",
     "text": [
      "Using TensorFlow backend.\n"
     ]
    }
   ],
   "source": [
    "import matplotlib.pyplot as plt\n",
    "from keras.utils import to_categorical\n",
    "from keras.models import Sequential\n",
    "from keras.layers import Dense, Conv2D, Flatten, MaxPooling2D, Activation\n",
    "import numpy as np\n",
    "import pandas as pd\n",
    "from keras import initializers\n",
    "\n",
    "import matplotlib.pyplot as plt\n",
    "from keras.utils import to_categorical\n",
    "from keras.models import Sequential\n",
    "from keras.layers import Dense, Conv1D, Flatten, MaxPooling1D\n",
    "import numpy as np\n",
    "import pandas as pd\n",
    "from sklearn.model_selection import train_test_split\n",
    "from keras.utils import to_categorical\n",
    "from keras.models import load_model\n",
    "from keras import optimizers\n",
    "from keras.callbacks import EarlyStopping\n",
    "from tqdm import tqdm"
   ]
  },
  {
   "cell_type": "markdown",
   "metadata": {},
   "source": [
    "# architecture"
   ]
  },
  {
   "cell_type": "code",
   "execution_count": 2,
   "metadata": {
    "collapsed": true
   },
   "outputs": [],
   "source": [
    "# construct the model used for classifier\n",
    "# In our case the input shape is (42,1) is the board flattened\n",
    "\n",
    "def classifier():  \n",
    "    \n",
    "    model = Sequential()\n",
    "    # 2 \"convo+pooling\" layers\n",
    "    model.add(Conv2D(filters=5, kernel_size=(3,3), strides=1, input_shape=(6,7,1)))\n",
    "    #model.add(MaxPooling2D(pool_size=(2, 2),strides=2))\n",
    "    model.add(Activation('relu'))\n",
    "    \n",
    "    model.add(Conv2D(filters=10, kernel_size=(3,3), strides=1))\n",
    "    model.add(MaxPooling2D(pool_size=(2, 2),strides=2))\n",
    "    model.add(Activation('relu'))\n",
    "\n",
    "    #flatten & linear layers\n",
    "    model.add(Flatten())\n",
    "    #model.add(Dense(42))\n",
    "    model.add(Activation('relu'))\n",
    "\n",
    "    #Classify if there is a merger waveform, output probabilistic\n",
    "    model.add(Dense(2, activation=\"softmax\"))\n",
    "\n",
    "    return model"
   ]
  },
  {
   "cell_type": "markdown",
   "metadata": {},
   "source": [
    "# compile"
   ]
  },
  {
   "cell_type": "code",
   "execution_count": 22,
   "metadata": {},
   "outputs": [],
   "source": [
    "# Build model\n",
    "model = classifier()\n",
    "\n",
    "# compile model\n",
    "ad = optimizers.Adam(lr=0.00005)\n",
    "model.compile(loss='mean_squared_error', optimizer=ad, metrics=['accuracy'])"
   ]
  },
  {
   "cell_type": "markdown",
   "metadata": {},
   "source": [
    "# functions for training data"
   ]
  },
  {
   "cell_type": "code",
   "execution_count": 4,
   "metadata": {
    "collapsed": true
   },
   "outputs": [],
   "source": [
    "# return a 6*7 array of zeros, which represent \n",
    "def newgame():\n",
    "    n = np.zeros(42)\n",
    "    n = np.reshape(n, (6,7))\n",
    "    return n"
   ]
  },
  {
   "cell_type": "code",
   "execution_count": 5,
   "metadata": {
    "collapsed": true
   },
   "outputs": [],
   "source": [
    "# Check if col th column of B is full\n",
    "\n",
    "def colAvailable(B, col):\n",
    "    # start with checking if bottom (row 6) of ith column is empty \n",
    "    row = 5\n",
    "    while B[row, col] != 0:\n",
    "        row -= 1\n",
    "        if row < 0:\n",
    "            return False #column not available cuz full\n",
    "    return True"
   ]
  },
  {
   "cell_type": "code",
   "execution_count": 6,
   "metadata": {
    "collapsed": true
   },
   "outputs": [],
   "source": [
    "# assume col not a full column, meaning it has been run through the columnfull function\n",
    "# play a piece in ith column, [0,6] of B\n",
    "# player denoted with -1, 1\n",
    "\n",
    "# The function avoids modifying the original object numpy array B, returns a new object\n",
    "\n",
    "def move(B, col, player):\n",
    "    A = np.array(B)\n",
    "    # start with checking if bottom (row 6) of ith column is empty \n",
    "    row = 5\n",
    "    while A[row, col] != 0:\n",
    "        row -= 1\n",
    "    A[row, col] = player\n",
    "    return A"
   ]
  },
  {
   "cell_type": "code",
   "execution_count": 7,
   "metadata": {
    "collapsed": true
   },
   "outputs": [],
   "source": [
    "# return all possible next board position, \n",
    "# and the associated probability of the current player winning based on the current model of network\n",
    "\n",
    "def possibilities(B, player, network):\n",
    "    pos = []\n",
    "    for col in range(7):\n",
    "        if colAvailable(B, col):\n",
    "            moved0 = move(B, col, player)\n",
    "            moved = moved0.reshape(6,7,1)\n",
    "            moved = np.asarray([moved])\n",
    "            pos.append([moved0, model.predict(moved)] )\n",
    "    return pos"
   ]
  },
  {
   "cell_type": "code",
   "execution_count": 8,
   "metadata": {},
   "outputs": [],
   "source": [
    "#Written by Ryan\n",
    "\n",
    "def goodMove(B, network, player):\n",
    "    poss = possibilities(B, network, player)\n",
    "    \n",
    "    if(player == 1):\n",
    "        myIndex = 0\n",
    "    else:\n",
    "        myIndex=1\n",
    "    \n",
    "    total = 0\n",
    "    u = np.random.uniform(0,1)\n",
    "    \n",
    "    for p in poss:\n",
    "        total += p[1][0][myIndex]**3\n",
    "        \n",
    "    for i in range(len(poss)):\n",
    "        sumCubeBefore=0\n",
    "        for j in range(i):\n",
    "    \n",
    "            sumCubeBefore += poss[j][1][0][myIndex]**3\n",
    "            \n",
    "            \n",
    "        #print(\"SumCubeBefore: \" + str(sumCubeBefore))\n",
    "        #print(\"u: \" + str(u))\n",
    "        #print(\"myIndex: \" + str(myIndex))\n",
    "        #print(\"poss[i][1]\" + str(poss[i][1]))\n",
    "        #print(\"sumCubeBefore + poss[i][1][myIndex]**3/total: \" + str((sumCubeBefore + poss[i][1][0][myIndex]**3))\n",
    "        #print(\"poss[i][1][myIndex]**3: \" + str(poss[i][1][myIndex]**3))\n",
    "        #print(\"poss[i][1]**3: \" + str(poss[i][1][myIndex]**3) )\n",
    "        #print(u>=sumCubeBefore and u<=sumCubeBefore + poss[i][1][0][myIndex]**3) \n",
    "            \n",
    "            \n",
    "        if u>=sumCubeBefore/total and u<=(sumCubeBefore + poss[i][1][0][myIndex]**3)/total:\n",
    "            A=poss[i][0]\n",
    "    '''\n",
    "    print(str(A))\n",
    "    '''\n",
    "    \n",
    "    return A\n",
    "    "
   ]
  },
  {
   "cell_type": "code",
   "execution_count": 9,
   "metadata": {
    "collapsed": true
   },
   "outputs": [],
   "source": [
    "def check_draw(board):\n",
    "    check = 0\n",
    "    for c in range(7-3):\n",
    "        for r in range(6):\n",
    "            if board[r][c] == 0:\n",
    "                check+=1\n",
    "    \n",
    "    if check == 0:\n",
    "        return True\n",
    "    else:\n",
    "        return False\n",
    "\n"
   ]
  },
  {
   "cell_type": "code",
   "execution_count": 10,
   "metadata": {},
   "outputs": [],
   "source": [
    "# board is the current position, a 2d numpy array \n",
    "# checkwin checks if any side wins\n",
    "def checkwin(board):   #returns 1 if four 1s in a row, -1 if four -1s in a row, 0 otherwise\n",
    "    #board = board[0]\n",
    "    #print(\"This is board after\" + str(board))\n",
    "    \n",
    "    isWin = 0\n",
    "\n",
    "    wincombopos = [1,1,1,1]\n",
    "    wincomboneg = [-1,-1,-1,-1]\n",
    "\n",
    "    for row in board: #look for 4 of a kind on rows\n",
    "        for i in range(4):\n",
    "            if (np.array_equal(wincombopos, row[i:i+4])):\n",
    "                isWin = 1\n",
    "            elif (np.array_equal(wincomboneg, row[i:i+4])):\n",
    "                isWin = -1\n",
    "            \n",
    "    for column in np.transpose(board): #look for 4 of a kind on columns\n",
    "        for i in range(3):\n",
    "            if (np.array_equal(wincombopos, column[i:i+4])):\n",
    "                isWin = 1\n",
    "            elif (np.array_equal(wincomboneg, column[i:i+4])):\n",
    "                isWin = -1\n",
    "    \n",
    "    for ri in range(3): #row index   #look for 4 of a kind on downward sloping diagonals\n",
    "        for ci in range(4): #column index\n",
    "            diag = np.array([board[ri][ci], board[ri+1][ci+1], board[ri+2][ci+2], board[ri+3][ci+3]])\n",
    "            if (np.array_equal(wincombopos, diag)):\n",
    "                isWin = 1\n",
    "            elif (np.array_equal(wincomboneg, diag)):\n",
    "                isWin = -1\n",
    "            \n",
    "    for ri in range(3):\n",
    "        for ci in range(4):\n",
    "            diag = np.array([board[ri+3][ci], board[ri+2][ci+1], board[ri+1][ci+2], board[ri][ci+3]])\n",
    "            if (np.array_equal(wincombopos, diag)):\n",
    "                isWin = 1\n",
    "            if (np.array_equal(wincomboneg, diag)):\n",
    "                isWin = -1\n",
    "\n",
    "    return isWin\n",
    "    "
   ]
  },
  {
   "cell_type": "code",
   "execution_count": 11,
   "metadata": {
    "collapsed": true
   },
   "outputs": [],
   "source": [
    "# player1 goes first\n",
    "\n",
    "def game(network, player1):\n",
    "    B = newgame()\n",
    "    step = 0\n",
    "    boards = []\n",
    "    probs = []\n",
    "    \n",
    "    if player1 == 1:\n",
    "        player2 = -1\n",
    "    else:\n",
    "        player2 = 1\n",
    "    \n",
    "    # keep playing as long as no one winning\n",
    "    while checkwin(B) == 0 and check_draw(B) != True:\n",
    "        step += 1\n",
    "        '''\n",
    "        print()\n",
    "        print(\"Step \", step)\n",
    "        '''\n",
    "        if (step % 2) == 0: # odd step player1 moves, otherwise player2 moves\n",
    "            B = goodMove(B, player2, network)\n",
    "        else:\n",
    "            B = goodMove(B, player1, network)\n",
    "        B0 = B.reshape(6,7,1)\n",
    "        boards.append(B0)\n",
    "    \n",
    "    # try linear function first\n",
    "    if checkwin(B) != 0:\n",
    "        prob = np.arange(0.5, 1, 0.5/step) + 0.5/step\n",
    "    else:\n",
    "        prob = np.full(step, .5)\n",
    "    \n",
    "    X = boards\n",
    "    Y = np.concatenate((prob,1-prob)).reshape(step,2)\n",
    "        \n",
    "    return X, Y\n"
   ]
  },
  {
   "cell_type": "code",
   "execution_count": 12,
   "metadata": {
    "collapsed": true
   },
   "outputs": [],
   "source": [
    "# number of training data to generate \n",
    "\n",
    "def generateData(N, network, player1):\n",
    "    X = np.asarray([])\n",
    "    Y = np.asarray([])\n",
    "    for i in range(N):\n",
    "        g = game(model, 1)\n",
    "        if i == 0:\n",
    "            X = g[0]\n",
    "            Y = np.asarray(g[1])\n",
    "        else:\n",
    "            X= X +g[0]\n",
    "            Y = np.concatenate((Y, np.asarray(g[1])))     \n",
    "        \n",
    "    return np.asarray(X), np.asarray(Y)"
   ]
  },
  {
   "cell_type": "markdown",
   "metadata": {},
   "source": [
    "# Generate training data"
   ]
  },
  {
   "cell_type": "code",
   "execution_count": 13,
   "metadata": {
    "scrolled": true
   },
   "outputs": [],
   "source": [
    "N = 1000\n",
    "X,Y = generateData(N, model, 1)"
   ]
  },
  {
   "cell_type": "code",
   "execution_count": 14,
   "metadata": {},
   "outputs": [
    {
     "name": "stdout",
     "output_type": "stream",
     "text": [
      "We use  21364 training data.\n"
     ]
    }
   ],
   "source": [
    "print(\"We use \", len(X), \"training data.\")"
   ]
  },
  {
   "cell_type": "code",
   "execution_count": 15,
   "metadata": {
    "collapsed": true
   },
   "outputs": [],
   "source": [
    "N = 100\n",
    "Xtest,Ytest = generateData(N, model, 1)"
   ]
  },
  {
   "cell_type": "code",
   "execution_count": 16,
   "metadata": {},
   "outputs": [
    {
     "name": "stdout",
     "output_type": "stream",
     "text": [
      "We use  2202 test data.\n"
     ]
    }
   ],
   "source": [
    "print(\"We use \", len(Xtest), \"test data.\")"
   ]
  },
  {
   "cell_type": "markdown",
   "metadata": {},
   "source": [
    "# train model"
   ]
  },
  {
   "cell_type": "code",
   "execution_count": 23,
   "metadata": {
    "collapsed": true
   },
   "outputs": [],
   "source": [
    "# Save the pre-trained classifier\n",
    "model.save('model0.h5')  # creates a HDF5 file 'my_model.h5'"
   ]
  },
  {
   "cell_type": "code",
   "execution_count": 24,
   "metadata": {},
   "outputs": [
    {
     "name": "stdout",
     "output_type": "stream",
     "text": [
      "21364/21364 [==============================] - 0s 15us/step\n",
      "Before training:\n",
      "train loss: 0.09155864342335703\n",
      "train accuracy: 0.5164295075940095\n",
      "\n",
      "2202/2202 [==============================] - 0s 15us/step\n",
      "Before training\n",
      "Test loss: 0.09216086397947343\n",
      "Test accuracy: 0.48819255227938657\n",
      "\n"
     ]
    }
   ],
   "source": [
    "# Pre_train score record\n",
    "pre_score = model.evaluate(X, Y, verbose=1)\n",
    "print(\"Before training:\")\n",
    "print('train loss:', pre_score[0])\n",
    "print('train accuracy:', pre_score[1])\n",
    "print()\n",
    "\n",
    "# Pre_test score record\n",
    "pre_score = model.evaluate(Xtest, Ytest, verbose=1)\n",
    "print(\"Before training\")\n",
    "print('Test loss:', pre_score[0])\n",
    "print('Test accuracy:', pre_score[1])\n",
    "print()"
   ]
  },
  {
   "cell_type": "code",
   "execution_count": 25,
   "metadata": {
    "scrolled": true
   },
   "outputs": [
    {
     "name": "stdout",
     "output_type": "stream",
     "text": [
      "Train on 17091 samples, validate on 4273 samples\n",
      "Epoch 1/100\n",
      "17091/17091 [==============================] - 3s 185us/step - loss: 0.0897 - acc: 0.5266 - val_loss: 0.0889 - val_acc: 0.5259\n",
      "Epoch 2/100\n",
      "17091/17091 [==============================] - 3s 173us/step - loss: 0.0889 - acc: 0.5527 - val_loss: 0.0886 - val_acc: 0.5575\n",
      "Epoch 3/100\n",
      "17091/17091 [==============================] - 3s 174us/step - loss: 0.0886 - acc: 0.5845 - val_loss: 0.0884 - val_acc: 0.6106\n",
      "Epoch 4/100\n",
      "17091/17091 [==============================] - 3s 175us/step - loss: 0.0886 - acc: 0.6392 - val_loss: 0.0884 - val_acc: 0.6298\n",
      "Epoch 5/100\n",
      "17091/17091 [==============================] - 3s 175us/step - loss: 0.0885 - acc: 0.6525 - val_loss: 0.0884 - val_acc: 0.6438\n",
      "Epoch 6/100\n",
      "17091/17091 [==============================] - 3s 174us/step - loss: 0.0885 - acc: 0.6619 - val_loss: 0.0883 - val_acc: 0.6756\n",
      "Epoch 7/100\n",
      "17091/17091 [==============================] - 3s 178us/step - loss: 0.0885 - acc: 0.6888 - val_loss: 0.0883 - val_acc: 0.6670\n",
      "Epoch 8/100\n",
      "17091/17091 [==============================] - 3s 180us/step - loss: 0.0885 - acc: 0.6847 - val_loss: 0.0883 - val_acc: 0.6951\n",
      "Epoch 9/100\n",
      "17091/17091 [==============================] - 3s 176us/step - loss: 0.0885 - acc: 0.6978 - val_loss: 0.0883 - val_acc: 0.7035\n",
      "Epoch 10/100\n",
      "17091/17091 [==============================] - 3s 181us/step - loss: 0.0885 - acc: 0.7077 - val_loss: 0.0883 - val_acc: 0.6986\n",
      "Epoch 11/100\n",
      "17091/17091 [==============================] - 3s 180us/step - loss: 0.0885 - acc: 0.7105 - val_loss: 0.0883 - val_acc: 0.6983\n",
      "Epoch 12/100\n",
      "17091/17091 [==============================] - 3s 179us/step - loss: 0.0885 - acc: 0.7122 - val_loss: 0.0883 - val_acc: 0.7056\n",
      "Epoch 13/100\n",
      "17091/17091 [==============================] - 3s 176us/step - loss: 0.0885 - acc: 0.7198 - val_loss: 0.0883 - val_acc: 0.7068\n",
      "Epoch 14/100\n",
      "17091/17091 [==============================] - 3s 177us/step - loss: 0.0884 - acc: 0.7158 - val_loss: 0.0883 - val_acc: 0.7180\n",
      "Epoch 15/100\n",
      "17091/17091 [==============================] - 3s 184us/step - loss: 0.0884 - acc: 0.7251 - val_loss: 0.0883 - val_acc: 0.7124\n",
      "Epoch 16/100\n",
      "17091/17091 [==============================] - 3s 177us/step - loss: 0.0884 - acc: 0.7237 - val_loss: 0.0883 - val_acc: 0.7206\n",
      "Epoch 17/100\n",
      "17091/17091 [==============================] - 3s 178us/step - loss: 0.0884 - acc: 0.7295 - val_loss: 0.0883 - val_acc: 0.7140\n",
      "Epoch 18/100\n",
      "17091/17091 [==============================] - 3s 176us/step - loss: 0.0884 - acc: 0.7294 - val_loss: 0.0883 - val_acc: 0.7119\n",
      "Epoch 19/100\n",
      "17091/17091 [==============================] - 3s 180us/step - loss: 0.0884 - acc: 0.7257 - val_loss: 0.0883 - val_acc: 0.7243\n",
      "Epoch 20/100\n",
      "17091/17091 [==============================] - 3s 177us/step - loss: 0.0884 - acc: 0.7341 - val_loss: 0.0883 - val_acc: 0.7203\n",
      "Epoch 21/100\n",
      "17091/17091 [==============================] - 3s 180us/step - loss: 0.0884 - acc: 0.7303 - val_loss: 0.0883 - val_acc: 0.7227\n",
      "Epoch 22/100\n",
      "17091/17091 [==============================] - 3s 175us/step - loss: 0.0884 - acc: 0.7311 - val_loss: 0.0883 - val_acc: 0.7260\n",
      "Epoch 23/100\n",
      "17091/17091 [==============================] - 3s 176us/step - loss: 0.0884 - acc: 0.7353 - val_loss: 0.0883 - val_acc: 0.7238\n",
      "Epoch 24/100\n",
      "17091/17091 [==============================] - 3s 183us/step - loss: 0.0884 - acc: 0.7330 - val_loss: 0.0883 - val_acc: 0.7271\n",
      "Epoch 25/100\n",
      "17091/17091 [==============================] - 3s 186us/step - loss: 0.0884 - acc: 0.7378 - val_loss: 0.0883 - val_acc: 0.7201\n",
      "Epoch 26/100\n",
      "17091/17091 [==============================] - 3s 179us/step - loss: 0.0884 - acc: 0.7348 - val_loss: 0.0883 - val_acc: 0.7217\n",
      "Epoch 27/100\n",
      "17091/17091 [==============================] - 3s 180us/step - loss: 0.0884 - acc: 0.7337 - val_loss: 0.0883 - val_acc: 0.7306\n",
      "Epoch 28/100\n",
      "17091/17091 [==============================] - 3s 179us/step - loss: 0.0884 - acc: 0.7382 - val_loss: 0.0883 - val_acc: 0.7269\n",
      "Epoch 29/100\n",
      "17091/17091 [==============================] - 3s 176us/step - loss: 0.0884 - acc: 0.7361 - val_loss: 0.0883 - val_acc: 0.7262\n",
      "Epoch 30/100\n",
      "17091/17091 [==============================] - 3s 177us/step - loss: 0.0884 - acc: 0.7381 - val_loss: 0.0883 - val_acc: 0.7196\n",
      "Epoch 31/100\n",
      "17091/17091 [==============================] - 3s 177us/step - loss: 0.0884 - acc: 0.7372 - val_loss: 0.0883 - val_acc: 0.7194\n",
      "Epoch 00031: early stopping\n"
     ]
    }
   ],
   "source": [
    "# fit network\n",
    "\n",
    "epoch = 100\n",
    "batch_size = 5\n",
    "\n",
    "earlystopping_callback = EarlyStopping(monitor='val_acc',verbose=1,min_delta=0.5,patience=30,baseline=None)\n",
    "\n",
    "history = model.fit(X, Y, validation_split = 0.20, batch_size=batch_size, epochs=epoch, verbose=1,\n",
    "                   callbacks=[earlystopping_callback])"
   ]
  },
  {
   "cell_type": "markdown",
   "metadata": {},
   "source": [
    "# Performance and Save model"
   ]
  },
  {
   "cell_type": "code",
   "execution_count": 26,
   "metadata": {},
   "outputs": [
    {
     "name": "stdout",
     "output_type": "stream",
     "text": [
      "2202/2202 [==============================] - 0s 18us/step\n",
      "After training:\n",
      "Test loss: 0.08898158756496688\n",
      "Test accuracy: 0.7252497728795598\n"
     ]
    }
   ],
   "source": [
    "score = model.evaluate(Xtest, Ytest, verbose=1)\n",
    "print(\"After training:\")\n",
    "print('Test loss:', score[0])\n",
    "print('Test accuracy:', score[1])"
   ]
  },
  {
   "cell_type": "code",
   "execution_count": 27,
   "metadata": {
    "collapsed": true
   },
   "outputs": [],
   "source": [
    "# Save the trained classifier\n",
    "model.save('model1.h5')  # creates a HDF5 file 'my_model.h5'"
   ]
  },
  {
   "cell_type": "code",
   "execution_count": null,
   "metadata": {
    "collapsed": true
   },
   "outputs": [],
   "source": []
  },
  {
   "cell_type": "code",
   "execution_count": null,
   "metadata": {
    "collapsed": true
   },
   "outputs": [],
   "source": []
  },
  {
   "cell_type": "code",
   "execution_count": null,
   "metadata": {
    "collapsed": true
   },
   "outputs": [],
   "source": []
  },
  {
   "cell_type": "markdown",
   "metadata": {},
   "source": [
    "# Compete between old and new models to test our training"
   ]
  },
  {
   "cell_type": "code",
   "execution_count": null,
   "metadata": {
    "collapsed": true
   },
   "outputs": [],
   "source": [
    "def optMove(B, network, player):\n",
    "    poss = possibilities(B, network, player)\n",
    "    \n",
    "    if(player == 1):\n",
    "        myIndex = 0\n",
    "    else:\n",
    "        myIndex=1\n",
    "    \n",
    "    p = \n",
    "    for i in range(len(poss)):\n",
    "        p = poss[i][1][0][myIndex]\n",
    "        \n",
    "    \n",
    "    \n",
    "    \n",
    "    optB = poss[opti]\n",
    "                 \n",
    "                 \n",
    "    return optB\n",
    "    "
   ]
  },
  {
   "cell_type": "code",
   "execution_count": 28,
   "metadata": {
    "collapsed": true
   },
   "outputs": [],
   "source": [
    "# allow 2 models to play each other\n",
    "# Network 1 is the player1 \"1\", \"1\" goes first\n",
    "# output who wins \"1\", \"-1\", or a draw \"0\"\n",
    "\n",
    "def compete(network1, network2):\n",
    "    B = newgame()\n",
    "    step = 0\n",
    "    \n",
    "    # keep playing as long as no one winning\n",
    "    while checkwin(B) == 0 and check_draw(B) != True:\n",
    "        step += 1\n",
    "        if (step % 2) == 0: # odd step player1 moves, otherwise player2 moves\n",
    "            B = optMove(B, -1, network2)\n",
    "        else:\n",
    "            B = optMove(B, 1, network1)\n",
    "    \n",
    "    return checkwin(B)"
   ]
  },
  {
   "cell_type": "code",
   "execution_count": null,
   "metadata": {
    "collapsed": true
   },
   "outputs": [],
   "source": [
    "def competeMultiple(N, network1, network2):\n",
    "    for i in range(N):\n",
    "        result = compete(network1, network2)\n",
    "        draw  = 0\n",
    "        win = \n",
    "        if result==0:\n",
    "            draw \n",
    "    "
   ]
  },
  {
   "cell_type": "code",
   "execution_count": null,
   "metadata": {
    "collapsed": true
   },
   "outputs": [],
   "source": [
    "# Check model performance accuracy before\n",
    "model0 = load_model(\"model0.h5\")\n",
    "model1 = load_model(\"model1.h5\")"
   ]
  }
 ],
 "metadata": {
  "kernelspec": {
   "display_name": "Python 3",
   "language": "python",
   "name": "python3"
  },
  "language_info": {
   "codemirror_mode": {
    "name": "ipython",
    "version": 3
   },
   "file_extension": ".py",
   "mimetype": "text/x-python",
   "name": "python",
   "nbconvert_exporter": "python",
   "pygments_lexer": "ipython3",
   "version": "3.6.8"
  }
 },
 "nbformat": 4,
 "nbformat_minor": 2
}
