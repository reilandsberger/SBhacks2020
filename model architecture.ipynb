{
 "cells": [
  {
   "cell_type": "code",
   "execution_count": 1,
   "metadata": {},
   "outputs": [
    {
     "name": "stderr",
     "output_type": "stream",
     "text": [
      "Using TensorFlow backend.\n"
     ]
    }
   ],
   "source": [
    "import matplotlib.pyplot as plt\n",
    "from keras.utils import to_categorical\n",
    "from keras.models import Sequential\n",
    "from keras.layers import Dense, Conv1D, Flatten, MaxPooling1D, Activation,AveragePooling1D\n",
    "import numpy as np\n",
    "import pandas as pd\n",
    "from keras import initializers"
   ]
  },
  {
   "cell_type": "code",
   "execution_count": 2,
   "metadata": {
    "collapsed": true
   },
   "outputs": [],
   "source": [
    "# construct the model used for classifier\n",
    "# In our case the input shape is (4096,1) and is already included.\n",
    "\n",
    "def classifier():  \n",
    "    \n",
    "    model = Sequential()\n",
    "    # 2 \"convo+pooling\" layers \n",
    "    model.add(Conv2D(filters=5, kernel_size=(3,3), strides=1, input_shape=(4096,1)))\n",
    "    model.add(MaxPooling1D(pool_size=(2,2), strides=4))\n",
    "    model.add(Activation('relu'))\n",
    "    \n",
    "    model.add(Conv2D(filters=10, kernel_size=(3,3), strides=1, input_shape=(4096,1)))\n",
    "    model.add(MaxPooling1D(pool_size=(2,2), strides=4))\n",
    "    model.add(Activation('relu'))\n",
    "\n",
    "    #flatten & linear layers\n",
    "    model.add(Flatten())\n",
    "    model.add(Dense(42))\n",
    "    model.add(Activation('relu'))\n",
    "\n",
    "    #Classify if there is a merger waveform, output probability\n",
    "    model.add(Dense(2, activation=\"softmax\"))\n",
    "\n",
    "    return model"
   ]
  },
  {
   "cell_type": "code",
   "execution_count": null,
   "metadata": {
    "collapsed": true
   },
   "outputs": [],
   "source": []
  }
 ],
 "metadata": {
  "kernelspec": {
   "display_name": "Python 3",
   "language": "python",
   "name": "python3"
  },
  "language_info": {
   "codemirror_mode": {
    "name": "ipython",
    "version": 3
   },
   "file_extension": ".py",
   "mimetype": "text/x-python",
   "name": "python",
   "nbconvert_exporter": "python",
   "pygments_lexer": "ipython3",
   "version": "3.6.8"
  }
 },
 "nbformat": 4,
 "nbformat_minor": 2
}
